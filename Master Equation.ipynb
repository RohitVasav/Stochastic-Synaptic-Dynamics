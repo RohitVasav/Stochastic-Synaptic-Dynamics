{
 "cells": [
  {
   "cell_type": "code",
   "execution_count": 1,
   "id": "94237dff",
   "metadata": {},
   "outputs": [],
   "source": [
    "import matplotlib.pyplot as plt\n",
    "import numpy as np\n",
    "import seaborn as sns\n",
    "from tqdm import tqdm\n",
    "sns.set_style(\"whitegrid\")"
   ]
  },
  {
   "cell_type": "code",
   "execution_count": 2,
   "id": "bc88eff6",
   "metadata": {},
   "outputs": [],
   "source": [
    "a = 3\n",
    "b = 2\n",
    "alpha = a/b\n",
    "\n",
    "S = 100\n",
    "num_r = S + 1 + 2*a\n",
    "num_s = S + 1 + 2*b\n",
    "num_c = S + 1 + 2*b\n",
    "\n",
    "r_init = S//2\n",
    "s_init = S//2\n",
    "c_init = S//2"
   ]
  },
  {
   "cell_type": "code",
   "execution_count": 3,
   "id": "eb97a44f",
   "metadata": {},
   "outputs": [],
   "source": [
    "#fit_parameters = np.load(r'C:\\Users\\Rohit Vasav\\Downloads\\params_f_range.npz')\n",
    "#k_off, k_u, k_b, j_off, J_on_hat, g_off = fit_parameters['params'][0,0]\n",
    "\n",
    "## Parameters obtained from experimental data\n",
    "k_off, k_u, k_b, j_off, J_on_hat, g_off = [3.9018766517549692, 1.9799379861044861, 6.615504603306438, \n",
    "                                           3.481669158554892, 3.016688368288114, 5.910017828840013]\n",
    "\n",
    "G_on = J_on_hat/(1+j_off/g_off)\n",
    "J_on = J_on_hat - G_on\n",
    "\n",
    "K_on = k_off/(1+(k_b/k_u)*J_on_hat/(j_off+g_off)) - G_on + g_off*J_on_hat/(j_off+g_off)\n",
    "\n",
    "## Theoretical steady state values\n",
    "r_star = J_on_hat / (j_off + g_off)\n",
    "s_star = (K_on + G_on -g_off*r_star) / k_off\n",
    "c_star = k_b/k_u * r_star * s_star\n",
    "\n",
    "## Scaling the parameters with S\n",
    "J_on *= S\n",
    "G_on *= S\n",
    "k_b /= S\n",
    "K_on *= S\n",
    "\n",
    "r_star *= S\n",
    "s_star *= S\n",
    "c_star *= S"
   ]
  },
  {
   "cell_type": "code",
   "execution_count": 4,
   "id": "50d13d06",
   "metadata": {},
   "outputs": [],
   "source": [
    "T_end = 3\n",
    "dt = 1/2000\n",
    "\n",
    "time_arr = np.arange(0,T_end,dt)\n",
    "time_steps = len(time_arr)"
   ]
  },
  {
   "cell_type": "code",
   "execution_count": 5,
   "id": "8efab30c",
   "metadata": {},
   "outputs": [],
   "source": [
    "def solve(r_init, s_init, c_init, time_steps, num_r, num_s, num_c):\n",
    "    \n",
    "    p = np.zeros((num_r,num_s,num_c,time_steps),dtype=np.float64)\n",
    "    \n",
    "    c = np.zeros((S+1, S+1, S+1))\n",
    "    c[:, :, :] = np.arange(0,S+1)\n",
    "    \n",
    "    r = np.zeros((S+1, S+1, S+1))\n",
    "    r[:, :, :] = np.arange(0, S + 1).reshape((S+1, 1, 1))\n",
    "\n",
    "    s = np.zeros((S+1, S+1, S+1))\n",
    "    s[:, :, :] = np.arange(0, S + 1).reshape((1, S+1, 1))\n",
    "    \n",
    "    const = np.ones((S+1,S+1,S+1))\n",
    "\n",
    "    p[r_init+a,s_init+b,c_init+b,0] = 1\n",
    "    \n",
    "    for t in tqdm(range(1,time_steps)):\n",
    "\n",
    "        rates = np.stack((J_on*const, G_on*const, (k_u/b)*c, g_off*r, j_off*r, (k_b/b)*r*s, K_on*const, k_off*s),axis=0)\n",
    "        \n",
    "        prob = np.stack((p[a-1:num_r-a-1, b:num_s-b, b:num_c-b, t-1], p[a-1:num_r-a-1, b-1:num_s-b-1, b:num_c-b, t-1],\n",
    "                        p[0:num_r-2*a, 0:num_s-2*b, 2*b:num_c, t-1], p[a+1:num_r-a+1, b+1:num_s-b+1, b:num_c-b, t-1],\n",
    "                        p[a+1:num_r-a+1, b:num_s-b, b:num_c-b, t-1], p[2*a:num_r, 2*b:num_s, 0:num_c-2*b, t-1],\n",
    "                        p[a:num_r-a, b-1:num_s-b-1, b:num_c-b, t-1], p[a:num_r-a, b+1:num_s-b+1, b:num_c-b,t-1]),axis=0)\n",
    "\n",
    "        p[a:num_r-a, b:num_s-b, b:num_c-b, t] = p[a:num_r-a, b:num_s-b, b:num_c-b, t-1] + dt*(-np.sum(rates,axis=0)*p[a:num_r-a, b:num_s-b, b:num_c-b, t-1] + np.sum(rates*prob,axis=0))\n",
    "                    \n",
    "        p[:,:,:,t] = p[:,:,:,t]/np.sum(p[:,:,:,t])\n",
    "                    \n",
    "    return p,r,s,c"
   ]
  },
  {
   "cell_type": "code",
   "execution_count": 6,
   "id": "cef09808",
   "metadata": {},
   "outputs": [
    {
     "ename": "MemoryError",
     "evalue": "Unable to allocate 52.7 GiB for an array with shape (107, 105, 105, 6000) and data type float64",
     "output_type": "error",
     "traceback": [
      "\u001b[1;31m---------------------------------------------------------------------------\u001b[0m",
      "\u001b[1;31mMemoryError\u001b[0m                               Traceback (most recent call last)",
      "Cell \u001b[1;32mIn[6], line 1\u001b[0m\n\u001b[1;32m----> 1\u001b[0m p,r,s,c \u001b[38;5;241m=\u001b[39m \u001b[43msolve\u001b[49m\u001b[43m(\u001b[49m\u001b[43mr_init\u001b[49m\u001b[43m,\u001b[49m\u001b[43m \u001b[49m\u001b[43ms_init\u001b[49m\u001b[43m,\u001b[49m\u001b[43m \u001b[49m\u001b[43mc_init\u001b[49m\u001b[43m,\u001b[49m\u001b[43m \u001b[49m\u001b[43mtime_steps\u001b[49m\u001b[43m,\u001b[49m\u001b[43m \u001b[49m\u001b[43mnum_r\u001b[49m\u001b[43m,\u001b[49m\u001b[43m \u001b[49m\u001b[43mnum_s\u001b[49m\u001b[43m,\u001b[49m\u001b[43m \u001b[49m\u001b[43mnum_c\u001b[49m\u001b[43m)\u001b[49m\n",
      "Cell \u001b[1;32mIn[5], line 3\u001b[0m, in \u001b[0;36msolve\u001b[1;34m(r_init, s_init, c_init, time_steps, num_r, num_s, num_c)\u001b[0m\n\u001b[0;32m      1\u001b[0m \u001b[38;5;28;01mdef\u001b[39;00m \u001b[38;5;21msolve\u001b[39m(r_init, s_init, c_init, time_steps, num_r, num_s, num_c):\n\u001b[1;32m----> 3\u001b[0m     p \u001b[38;5;241m=\u001b[39m \u001b[43mnp\u001b[49m\u001b[38;5;241;43m.\u001b[39;49m\u001b[43mzeros\u001b[49m\u001b[43m(\u001b[49m\u001b[43m(\u001b[49m\u001b[43mnum_r\u001b[49m\u001b[43m,\u001b[49m\u001b[43mnum_s\u001b[49m\u001b[43m,\u001b[49m\u001b[43mnum_c\u001b[49m\u001b[43m,\u001b[49m\u001b[43mtime_steps\u001b[49m\u001b[43m)\u001b[49m\u001b[43m,\u001b[49m\u001b[43mdtype\u001b[49m\u001b[38;5;241;43m=\u001b[39;49m\u001b[43mnp\u001b[49m\u001b[38;5;241;43m.\u001b[39;49m\u001b[43mfloat64\u001b[49m\u001b[43m)\u001b[49m\n\u001b[0;32m      5\u001b[0m     c \u001b[38;5;241m=\u001b[39m np\u001b[38;5;241m.\u001b[39mzeros((S\u001b[38;5;241m+\u001b[39m\u001b[38;5;241m1\u001b[39m, S\u001b[38;5;241m+\u001b[39m\u001b[38;5;241m1\u001b[39m, S\u001b[38;5;241m+\u001b[39m\u001b[38;5;241m1\u001b[39m))\n\u001b[0;32m      6\u001b[0m     c[:, :, :] \u001b[38;5;241m=\u001b[39m np\u001b[38;5;241m.\u001b[39marange(\u001b[38;5;241m0\u001b[39m,S\u001b[38;5;241m+\u001b[39m\u001b[38;5;241m1\u001b[39m)\n",
      "\u001b[1;31mMemoryError\u001b[0m: Unable to allocate 52.7 GiB for an array with shape (107, 105, 105, 6000) and data type float64"
     ]
    }
   ],
   "source": [
    "p,r,s,c = solve(r_init, s_init, c_init, time_steps, num_r, num_s, num_c)"
   ]
  },
  {
   "cell_type": "code",
   "execution_count": null,
   "id": "0b570838",
   "metadata": {},
   "outputs": [],
   "source": [
    "np.max(p), np.min(p)"
   ]
  },
  {
   "cell_type": "code",
   "execution_count": null,
   "id": "981d4beb",
   "metadata": {},
   "outputs": [],
   "source": [
    "p_r = np.sum(p[a:num_r-a, b:num_s-b, b:num_c-b], axis=(1,2))\n",
    "p_s = np.sum(p[a:num_r-a, b:num_s-b, b:num_c-b], axis=(0,2))\n",
    "p_c = np.sum(p[a:num_r-a, b:num_s-b, b:num_c-b], axis=(0,1))"
   ]
  },
  {
   "cell_type": "code",
   "execution_count": null,
   "id": "ed5007f3",
   "metadata": {},
   "outputs": [],
   "source": [
    "fig, axs = plt.subplots(1, 3, figsize=(15,5))\n",
    "\n",
    "ax = axs[0]\n",
    "co = ax.pcolor(p_r, cmap='jet', vmin=0, vmax=0.1)\n",
    "fig.colorbar(co, ax=ax)\n",
    "ax.set_xlabel(\"Time (in hours)\")\n",
    "ax.set_ylabel(\"r\")\n",
    "ax.set_title(\"p(r)\")\n",
    "ax.set_xticks(np.arange(0, time_steps+1, time_steps//T_end), np.arange(0,T_end+dt,(time_steps//T_end)*dt).round(4))\n",
    "\n",
    "ax = axs[1]\n",
    "co = ax.pcolormesh(p_s, cmap='jet', vmin=0, vmax=0.1)\n",
    "fig.colorbar(co, ax=ax)\n",
    "ax.set_xlabel(\"Time (in hours)\")\n",
    "ax.set_ylabel(\"s\")\n",
    "ax.set_title(\"p(s)\")\n",
    "ax.set_xticks(np.arange(0, time_steps+1, time_steps//T_end), np.arange(0,T_end+dt,(time_steps//T_end)*dt).round(4))\n",
    "\n",
    "ax = axs[2]\n",
    "co = ax.pcolormesh(p_c, cmap='jet', vmin=0, vmax=0.1)\n",
    "fig.colorbar(co, ax=ax)\n",
    "ax.set_xlabel(\"Time (in hours)\")\n",
    "ax.set_ylabel(\"c\")\n",
    "ax.set_title(\"p(c)\")\n",
    "ax.set_xticks(np.arange(0, time_steps+1, time_steps//T_end), np.arange(0,T_end+dt,(time_steps//T_end)*dt).round(4))\n",
    "\n",
    "fig.suptitle(\"Time evolution of probabilities \\n S = \"+str(S))\n",
    "fig.tight_layout()\n",
    "#plt.savefig(\"/users/nsr/rvasav/Internship/Graphs/Probablity_Evolution_Master_Equation.png\",dpi=100)\n",
    "plt.show()"
   ]
  },
  {
   "cell_type": "code",
   "execution_count": null,
   "id": "90781c71",
   "metadata": {},
   "outputs": [],
   "source": [
    "mean_p_r = np.mean(p_r[:,3*time_steps//4:],axis=1)\n",
    "mean_p_s = np.mean(p_s[:,3*time_steps//4:],axis=1)\n",
    "mean_p_c = np.mean(p_c[:,3*time_steps//4:],axis=1)"
   ]
  },
  {
   "cell_type": "code",
   "execution_count": null,
   "id": "64499e65",
   "metadata": {},
   "outputs": [],
   "source": [
    "r_stat = np.load('/users/nsr/rvasav/Internship/Data/r_stat.npy')\n",
    "s_stat = np.load('/users/nsr/rvasav/Internship/Data/s_stat.npy')\n",
    "c_stat = np.load('/users/nsr/rvasav/Internship/Data/c_stat.npy')"
   ]
  },
  {
   "cell_type": "code",
   "execution_count": null,
   "id": "76680341",
   "metadata": {
    "scrolled": false
   },
   "outputs": [],
   "source": [
    "plt.hist(r_stat,bins=range(0,S+1),density=True,facecolor = 'blue',edgecolor = 'white',linewidth=0.8,alpha=0.6)\n",
    "plt.hist(s_stat,bins=range(0,S+1),density=True,facecolor = 'orange',edgecolor = 'white',linewidth=0.8,alpha=0.5)\n",
    "plt.hist(c_stat,bins=range(0,S,2),density=True,facecolor = 'green',edgecolor = 'white',linewidth=0.8,alpha=0.5)\n",
    "\n",
    "plt.plot(range(0,S+1),mean_p_r,color='blue',label='r')\n",
    "plt.plot(range(0,S+1),mean_p_s,color='orange',label='s')\n",
    "plt.plot(range(0,S,2),np.roll(mean_p_c[mean_p_c!=0],2)/2,color='green',label='c')\n",
    "\n",
    "plt.ylabel('Frequency')\n",
    "plt.xlabel(\"Number\")\n",
    "\n",
    "plt.legend()\n",
    "\n",
    "plt.title('Equilibrium Probablity Distributions')\n",
    "#plt.savefig(\"/users/nsr/rvasav/Internship/Graphs/Master_Equation_Equilibrium_Probablity_Distributions.png\",dpi=100)\n",
    "plt.show()"
   ]
  },
  {
   "cell_type": "code",
   "execution_count": null,
   "id": "c9f9c1b5",
   "metadata": {},
   "outputs": [],
   "source": [
    "p_eq = p[a:num_r-a, b:num_s-b, b:num_c-b, -1]\n",
    "\n",
    "mu_r = np.sum(r*p_eq)\n",
    "mu_s = np.sum(s*p_eq)\n",
    "mu_c = np.sum(c*p_eq)\n",
    "\n",
    "sigma_r = np.sum((r**2)*p_eq) - mu_r**2\n",
    "sigma_s = np.sum((s**2)*p_eq) - mu_s**2\n",
    "sigma_c = np.sum((c**2)*p_eq) - mu_c**2\n",
    "\n",
    "cov_rs = (np.sum(r*s*p_eq) - mu_r*mu_s)/(sigma_r*sigma_s)\n",
    "cov_sc = (np.sum(s*c*p_eq) - mu_s*mu_c)/(sigma_s*sigma_c)\n",
    "cov_rc = (np.sum(r*c*p_eq) - mu_r*mu_c)/(sigma_r*sigma_c)"
   ]
  },
  {
   "cell_type": "code",
   "execution_count": null,
   "id": "07bf7bd4",
   "metadata": {},
   "outputs": [],
   "source": [
    "print(mu_r, r_star , np.abs(mu_r-r_star)/r_star * 100, \"%\")\n",
    "print(mu_s, s_star , np.abs(mu_s-s_star)/s_star * 100, \"%\")\n",
    "print(mu_c, c_star , np.abs(mu_c-c_star)/c_star * 100, \"%\")"
   ]
  },
  {
   "cell_type": "code",
   "execution_count": null,
   "id": "ce43d2a8",
   "metadata": {},
   "outputs": [],
   "source": [
    "print(cov_rs)\n",
    "print(cov_sc)\n",
    "print(cov_rc)"
   ]
  }
 ],
 "metadata": {
  "kernelspec": {
   "display_name": "Python 3 (ipykernel)",
   "language": "python",
   "name": "python3"
  },
  "language_info": {
   "codemirror_mode": {
    "name": "ipython",
    "version": 3
   },
   "file_extension": ".py",
   "mimetype": "text/x-python",
   "name": "python",
   "nbconvert_exporter": "python",
   "pygments_lexer": "ipython3",
   "version": "3.9.16"
  }
 },
 "nbformat": 4,
 "nbformat_minor": 5
}
